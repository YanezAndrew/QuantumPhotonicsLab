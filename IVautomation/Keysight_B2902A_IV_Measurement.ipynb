{
 "cells": [
  {
   "cell_type": "code",
   "execution_count": 2,
   "metadata": {},
   "outputs": [
    {
     "name": "stdout",
     "output_type": "stream",
     "text": [
      "('USB0::0x0957::0x8C18::MY51145486::INSTR', 'ASRL1::INSTR', 'ASRL6::INSTR')\n",
      "Keysight Technologies,B2902A,MY51145486,3.4.2011.5100\n",
      "\n",
      "Resource Manager of Visa Library at C:\\WINDOWS\\system32\\visa32.dll\n",
      "USBInstrument at USB0::0x0957::0x8C18::MY51145486::0::INSTR\n"
     ]
    }
   ],
   "source": [
    "import pyvisa as pv\n",
    "import time\n",
    "import sys\n",
    "import numpy as np\n",
    "import matplotlib.pyplot as \n",
    "\n",
    "rm = pv.ResourceManager()\n",
    "print(rm.list_resources())\n",
    "keysight = rm.open_resource(rm.list_resources()[0])\n",
    "# keysight.read_termination = '\\n'\n",
    "# keysight.write_termination = '\\n'\n",
    "print(keysight.query('*IDN?'))\n",
    "print(rm)\n",
    "print(keysight)\n",
    "keysight.write('*RST')\n",
    "time.sleep(0.1)"
   ]
  },
  {
   "attachments": {},
   "cell_type": "markdown",
   "metadata": {},
   "source": [
    "Initializing process"
   ]
  },
  {
   "cell_type": "code",
   "execution_count": 3,
   "metadata": {},
   "outputs": [],
   "source": [
    "current_compliance = 0.1\n",
    "voltage_upper = 1"
   ]
  },
  {
   "cell_type": "code",
   "execution_count": 4,
   "metadata": {},
   "outputs": [
    {
     "data": {
      "text/plain": [
       "22"
      ]
     },
     "execution_count": 4,
     "metadata": {},
     "output_type": "execute_result"
    }
   ],
   "source": [
    "keysight.write(\":SOUR:FUNC:MODE VOLT\")\n",
    "keysight.write(\":SOUR:VOLT:RANG \" + str(voltage_upper))\n",
    "keysight.write(\":SENSE:CURR:PROT \" + str(current_compliance))\n"
   ]
  },
  {
   "cell_type": "code",
   "execution_count": 5,
   "metadata": {},
   "outputs": [
    {
     "data": {
      "text/plain": [
       "6"
      ]
     },
     "execution_count": 5,
     "metadata": {},
     "output_type": "execute_result"
    }
   ],
   "source": [
    "keysight.write(\"*RST\")"
   ]
  },
  {
   "attachments": {},
   "cell_type": "markdown",
   "metadata": {},
   "source": [
    "Sourcing single voltage and measure current"
   ]
  },
  {
   "cell_type": "code",
   "execution_count": 6,
   "metadata": {},
   "outputs": [
    {
     "name": "stdout",
     "output_type": "stream",
     "text": [
      "-9.999970E-02\n",
      "\n"
     ]
    },
    {
     "data": {
      "text/plain": [
       "11"
      ]
     },
     "execution_count": 6,
     "metadata": {},
     "output_type": "execute_result"
    }
   ],
   "source": [
    "'''\n",
    "    code to measure current under voltage of 1V\n",
    "'''\n",
    "keysight.write(\"*RST\")\n",
    "keysight.write(\":SOUR:FUNC:MODE VOLT\")\n",
    "keysight.write(\":SOUR:VOLT -1\")\n",
    "keysight.write(\":SENSE:CURR:PROT \" + str(current_compliance))\n",
    "keysight.write(\":OUTP ON\")\n",
    "time.sleep(0.1)\n",
    "keysight.write(\":MEAS:CURR? (@1)\")\n",
    "data = keysight.read()\n",
    "print(data)\n",
    "time.sleep(0.1)\n",
    "keysight.write(\":OUTP OFF\")\n",
    "# time.sleep(0.1)\n",
    "# print(keysight.query(\":READ?\"))"
   ]
  },
  {
   "cell_type": "code",
   "execution_count": 7,
   "metadata": {},
   "outputs": [
    {
     "data": {
      "text/plain": [
       "11"
      ]
     },
     "execution_count": 7,
     "metadata": {},
     "output_type": "execute_result"
    }
   ],
   "source": [
    "\n",
    "keysight.write(\"*RST\")\n",
    "keysight.write(\":SOUR1:FUNC:MODE VOLT\")\n",
    "keysight.write(\":SOUR1:VOLT 1\")\n",
    "keysight.write(\":OUTP1:LOW FLO\")\n",
    "keysight.write(\":OUTP1 ON\")\n",
    "\n",
    "keysight.write(\":SOUR2:FUNC:MODE VOLT\")\n",
    "keysight.write(\":SOUR2:VOLT 1\")\n",
    "\n",
    "keysight.write(\":OUTP2 ON\")\n"
   ]
  },
  {
   "cell_type": "code",
   "execution_count": 8,
   "metadata": {},
   "outputs": [],
   "source": [
    "keysight.close()"
   ]
  },
  {
   "attachments": {},
   "cell_type": "markdown",
   "metadata": {},
   "source": [
    "Staircase IV Measurement Setup"
   ]
  },
  {
   "cell_type": "code",
   "execution_count": 13,
   "metadata": {},
   "outputs": [],
   "source": [
    "'''\n",
    "code for sweep measurement\n",
    "'''\n",
    "# start = 0\n",
    "# stop = 0.8\n",
    "# points = 50\n",
    "# nplc = 0.1 # aperture time of measurement. 0.1 by default\n",
    "# current_compliance = 0.1\n",
    "\n",
    "def single_IV_sweep(keysight, start, stop, points, nplc=0.1, current_compliance=0.1):\n",
    "    '''\n",
    "        Remember to initialze keysight and import numpy before executing this function!\n",
    "        Runs an IV measurement on Channel 1.\n",
    "        Return a numpy array with the current values.\n",
    "    '''\n",
    "\n",
    "    # Source\n",
    "    keysight.write(\"*RST\")\n",
    "    keysight.write(\":SOUR:FUNC:MODE VOLT\")\n",
    "    keysight.write(\":SOUR:VOLT:MODE SWE\")\n",
    "    keysight.write(\":SOUR:VOLT:STAR \" + str(start))\n",
    "    keysight.write(\":SOUR:VOLT:STOP \" + str(stop))\n",
    "    keysight.write(\":SOUR:VOLT:POIN \" + str(points))\n",
    "\n",
    "    # Measure\n",
    "    keysight.write(\":SENSE:FUNC \"\"CURR\"\"\")\n",
    "    keysight.write(\":SENSE:CURR:NPLC \" + str(nplc))\n",
    "    keysight.write(\":SENSE:CURR:PROT \" + str(current_compliance))\n",
    "\n",
    "    # Trigger\n",
    "    keysight.write(\":TRIG:SOUR AINT\")\n",
    "    keysight.write(\":TRIG:COUN \" + str(points))\n",
    "\n",
    "    # measurement\n",
    "    keysight.write(\":OUTP ON\")\n",
    "    keysight.write(\":INIT (@1)\")\n",
    "    keysight.write(\":FETC:ARR:CURR? (@1)\")\n",
    "    data = keysight.read()\n",
    "    keysight.write(\":OUTP OFF\")\n",
    "\n",
    "    # data convertion\n",
    "    l = data.split(',')\n",
    "    current_list = np.zeros(points, dtype=np.float64)\n",
    "    for i in range(points):\n",
    "        current_list[i] = float(l[i])\n",
    "\n",
    "    return current_list\n",
    "\n",
    "def MOSFET_IV_sweep(keysight, sd, g, nplc=0.1, sd_curr_comp=0.1, g_curr_comp=0.01):\n",
    "    current_array = np.zeros((g[2], sd[2]))\n",
    "    for i in range(g[2]):\n",
    "        \n",
    "        current_array[i] = single_IV_sweep(keysight, sd[0], sd[1], sd[2], nplc, sd_curr_comp)\n",
    "\n",
    "    return current_array\n"
   ]
  },
  {
   "attachments": {},
   "cell_type": "markdown",
   "metadata": {},
   "source": [
    "Conduct the Staircase Measurement"
   ]
  },
  {
   "cell_type": "code",
   "execution_count": 11,
   "metadata": {},
   "outputs": [],
   "source": [
    "# keysight.write(\":OUTP ON\")\n",
    "# keysight.write(\":INIT (@1)\")\n",
    "# keysight.write(\":FETC:ARR:CURR? (@1)\")\n",
    "# data = keysight.read()\n",
    "# keysight.write(\":OUTP OFF\")\n"
   ]
  },
  {
   "cell_type": "code",
   "execution_count": 12,
   "metadata": {},
   "outputs": [],
   "source": [
    "# '''\n",
    "#     Data convertion\n",
    "# '''\n",
    "# l = data.split(',')\n",
    "# current_list = np.zeros(points, dtype=np.float64)\n",
    "# for i in range(points):\n",
    "#     current_list[i] = float(l[i])\n",
    "# print(current_list)\n",
    "# print(type(current_list))"
   ]
  },
  {
   "cell_type": "code",
   "execution_count": 10,
   "metadata": {},
   "outputs": [
    {
     "ename": "NameError",
     "evalue": "name 'start' is not defined",
     "output_type": "error",
     "traceback": [
      "\u001b[1;31m---------------------------------------------------------------------------\u001b[0m",
      "\u001b[1;31mNameError\u001b[0m                                 Traceback (most recent call last)",
      "\u001b[1;32mC:\\Users\\MOODYL~1\\AppData\\Local\\Temp/ipykernel_9528/580251867.py\u001b[0m in \u001b[0;36m<module>\u001b[1;34m\u001b[0m\n\u001b[1;32m----> 1\u001b[1;33m \u001b[0mplt\u001b[0m\u001b[1;33m.\u001b[0m\u001b[0mscatter\u001b[0m\u001b[1;33m(\u001b[0m\u001b[0mnp\u001b[0m\u001b[1;33m.\u001b[0m\u001b[0mlinspace\u001b[0m\u001b[1;33m(\u001b[0m\u001b[0mstart\u001b[0m\u001b[1;33m,\u001b[0m \u001b[0mstop\u001b[0m\u001b[1;33m,\u001b[0m \u001b[0mpoints\u001b[0m\u001b[1;33m)\u001b[0m\u001b[1;33m,\u001b[0m \u001b[0mcurrent_list\u001b[0m\u001b[1;33m)\u001b[0m\u001b[1;33m\u001b[0m\u001b[1;33m\u001b[0m\u001b[0m\n\u001b[0m\u001b[0;32m      2\u001b[0m \u001b[0mplt\u001b[0m\u001b[1;33m.\u001b[0m\u001b[0mtitle\u001b[0m\u001b[1;33m(\u001b[0m\u001b[1;34m\"Diode IV\"\u001b[0m\u001b[1;33m)\u001b[0m\u001b[1;33m\u001b[0m\u001b[1;33m\u001b[0m\u001b[0m\n\u001b[0;32m      3\u001b[0m \u001b[0mplt\u001b[0m\u001b[1;33m.\u001b[0m\u001b[0mshow\u001b[0m\u001b[1;33m(\u001b[0m\u001b[1;33m)\u001b[0m\u001b[1;33m\u001b[0m\u001b[1;33m\u001b[0m\u001b[0m\n",
      "\u001b[1;31mNameError\u001b[0m: name 'start' is not defined"
     ]
    }
   ],
   "source": [
    "plt.scatter(np.linspace(start, stop, points), current_list)\n",
    "plt.title(\"Diode IV\")\n",
    "plt.show()"
   ]
  },
  {
   "attachments": {},
   "cell_type": "markdown",
   "metadata": {},
   "source": [
    "MOSFET IV Measurement"
   ]
  },
  {
   "cell_type": "code",
   "execution_count": 25,
   "metadata": {},
   "outputs": [
    {
     "data": {
      "text/plain": [
       "17"
      ]
     },
     "execution_count": 25,
     "metadata": {},
     "output_type": "execute_result"
    }
   ],
   "source": [
    "'''\n",
    "    Source-Drain sweep\n",
    "'''\n",
    "SD_start = 0\n",
    "SD_stop = 0.8\n",
    "SD_points = 50\n",
    "SD_curr_comp = 0.1 # Source-Drain current compliance, by default 0.1\n",
    "\n",
    "'''\n",
    "    Gate sweep\n",
    "'''\n",
    "G_start = 0\n",
    "G_stop = 1\n",
    "G_points = 5\n",
    "G_curr_comp = 0.01 # gate current compliance, by default is 0.01\n",
    "\n",
    "nplc = 0.1\n",
    "\n",
    "\n",
    "gate_volt_list = np.outer(np.linspace(G_start, G_stop, G_points), np.ones(SD_points)).flatten()\n",
    "gate_volt_list_str = np.array2string(gate_volt_list,separator=',', max_line_width=np.iinfo(np.int32).max, \\\n",
    "    threshold=np.iinfo(np.int32).max, floatmode='fixed')[1:-1]\n",
    "\n",
    "\n",
    "\n",
    "# SD sweep setup\n",
    "keysight.write(\"*RST\")\n",
    "keysight.write(\":SOUR1:FUNC:MODE VOLT\")\n",
    "keysight.write(\":SOUR1:VOLT:MODE SWE\")\n",
    "keysight.write(\":SOUR1:VOLT:STAR \" + str(SD_start))\n",
    "keysight.write(\":SOUR1:VOLT:STOP \" + str(SD_stop))\n",
    "keysight.write(\":SOUR1:VOLT:POIN \" + str(SD_points))\n",
    "\n",
    "# gate sweep setup\n",
    "keysight.write(\":SOUR2:FUNC:MODE VOLT\")\n",
    "keysight.write(\":SOUR2:VOLT:MODE LIST\")\n",
    "keysight.write(\":SOUR2:LIST:VOLT \" + gate_volt_list_str)\n",
    "\n",
    "# current measurement setup\n",
    "keysight.write(\":SENSE:FUNC \"\"CURR\"\"\")\n",
    "keysight.write(\":SENS1:CURR:NPLC \" + str(nplc))\n",
    "keysight.write(\":SENS1:CURR:PROT \" + str(SD_curr_comp))\n",
    "keysight.write(\":SENS2:CURR:PROT \" + str(G_curr_comp))\n",
    "\n",
    "# trigger\n",
    "keysight.write(\":TRIG1:SOUR AINT\")\n",
    "keysight.write(\":TRIG1:COUN \" + str(SD_points * G_points))\n",
    "keysight.write(\":TRIG2:SOUR AINT\")\n",
    "keysight.write(\":TRIG2:COUN \" + str(SD_points * G_points))\n",
    "\n"
   ]
  },
  {
   "cell_type": "code",
   "execution_count": 26,
   "metadata": {},
   "outputs": [
    {
     "data": {
      "text/plain": [
       "12"
      ]
     },
     "execution_count": 26,
     "metadata": {},
     "output_type": "execute_result"
    }
   ],
   "source": [
    "keysight.write(\":OUTP1 ON\")\n",
    "keysight.write(\":OUTP2 ON\")\n",
    "keysight.write(\":INIT (@1,2)\")\n",
    "keysight.write(\":FETC:ARR:CURR? (@1)\")\n",
    "data = keysight.read()\n",
    "keysight.write(\":OUTP1 OFF\")\n",
    "keysight.write(\":OUTP2 OFF\")\n"
   ]
  },
  {
   "cell_type": "code",
   "execution_count": 13,
   "metadata": {},
   "outputs": [],
   "source": [
    "l = data.split(',')\n",
    "current_arr = np.zeros((G_points, SD_points), dtype=np.float64)\n",
    "for i in range(G_points):\n",
    "    for j in range(SD_points):\n",
    "        current_arr[i,j] = float(l[i*G_points + j])\n"
   ]
  },
  {
   "cell_type": "code",
   "execution_count": 14,
   "metadata": {},
   "outputs": [
    {
     "data": {
      "image/png": "[encoded data removed]",
      "text/plain": [
       "<Figure size 640x480 with 1 Axes>"
      ]
     },
     "metadata": {},
     "output_type": "display_data"
    }
   ],
   "source": [
    "for i in range(G_points):\n",
    "    plt.scatter(np.linspace(SD_start, SD_stop, SD_points), current_arr[i], \\\n",
    "                label=\"V_gate = \" + str(np.linspace(G_start, G_stop, G_points)[i]))\n",
    "\n",
    "plt.legend()\n",
    "plt.show()"
   ]
  },
  {
   "cell_type": "code",
   "execution_count": 19,
   "metadata": {},
   "outputs": [
    {
     "data": {
      "text/plain": [
       "'0.00000000,0.00000000,0.00000000,0.00000000,0.00000000,0.00000000,0.00000000,0.00000000,0.00000000,0.00000000,0.00000000,0.00000000,0.00000000,0.00000000,0.00000000,0.00000000,0.00000000,0.00000000,0.00000000,0.00000000,0.00000000,0.00000000,0.00000000,0.00000000,0.00000000,0.00000000,0.00000000,0.00000000,0.00000000,0.00000000,0.00000000,0.00000000,0.00000000,0.00000000,0.00000000,0.00000000,0.00000000,0.00000000,0.00000000,0.00000000,0.00000000,0.00000000,0.00000000,0.00000000,0.00000000,0.00000000,0.00000000,0.00000000,0.00000000,0.00000000,0.25000000,0.25000000,0.25000000,0.25000000,0.25000000,0.25000000,0.25000000,0.25000000,0.25000000,0.25000000,0.25000000,0.25000000,0.25000000,0.25000000,0.25000000,0.25000000,0.25000000,0.25000000,0.25000000,0.25000000,0.25000000,0.25000000,0.25000000,0.25000000,0.25000000,0.25000000,0.25000000,0.25000000,0.25000000,0.25000000,0.25000000,0.25000000,0.25000000,0.25000000,0.25000000,0.25000000,0.25000000,0.25000000,0.25000000,0.25000000,0.25000000,0.25000000,0.25000000,0.25000000,0.25000000,0.25000000,0.25000000,0.25000000,0.25000000,0.25000000,0.50000000,0.50000000,0.50000000,0.50000000,0.50000000,0.50000000,0.50000000,0.50000000,0.50000000,0.50000000,0.50000000,0.50000000,0.50000000,0.50000000,0.50000000,0.50000000,0.50000000,0.50000000,0.50000000,0.50000000,0.50000000,0.50000000,0.50000000,0.50000000,0.50000000,0.50000000,0.50000000,0.50000000,0.50000000,0.50000000,0.50000000,0.50000000,0.50000000,0.50000000,0.50000000,0.50000000,0.50000000,0.50000000,0.50000000,0.50000000,0.50000000,0.50000000,0.50000000,0.50000000,0.50000000,0.50000000,0.50000000,0.50000000,0.50000000,0.50000000,0.75000000,0.75000000,0.75000000,0.75000000,0.75000000,0.75000000,0.75000000,0.75000000,0.75000000,0.75000000,0.75000000,0.75000000,0.75000000,0.75000000,0.75000000,0.75000000,0.75000000,0.75000000,0.75000000,0.75000000,0.75000000,0.75000000,0.75000000,0.75000000,0.75000000,0.75000000,0.75000000,0.75000000,0.75000000,0.75000000,0.75000000,0.75000000,0.75000000,0.75000000,0.75000000,0.75000000,0.75000000,0.75000000,0.75000000,0.75000000,0.75000000,0.75000000,0.75000000,0.75000000,0.75000000,0.75000000,0.75000000,0.75000000,0.75000000,0.75000000,1.00000000,1.00000000,1.00000000,1.00000000,1.00000000,1.00000000,1.00000000,1.00000000,1.00000000,1.00000000,1.00000000,1.00000000,1.00000000,1.00000000,1.00000000,1.00000000,1.00000000,1.00000000,1.00000000,1.00000000,1.00000000,1.00000000,1.00000000,1.00000000,1.00000000,1.00000000,1.00000000,1.00000000,1.00000000,1.00000000,1.00000000,1.00000000,1.00000000,1.00000000,1.00000000,1.00000000,1.00000000,1.00000000,1.00000000,1.00000000,1.00000000,1.00000000,1.00000000,1.00000000,1.00000000,1.00000000,1.00000000,1.00000000,1.00000000,1.00000000'"
      ]
     },
     "execution_count": 19,
     "metadata": {},
     "output_type": "execute_result"
    }
   ],
   "source": []
  },
  {
   "cell_type": "code",
   "execution_count": 2,
   "metadata": {},
   "outputs": [
    {
     "data": {
      "text/plain": [
       "11"
      ]
     },
     "execution_count": 2,
     "metadata": {},
     "output_type": "execute_result"
    }
   ],
   "source": [
    "\n"
   ]
  },
  {
   "attachments": {},
   "cell_type": "markdown",
   "metadata": {},
   "source": [
    "MOSFET IV Measurement (own version)"
   ]
  },
  {
   "cell_type": "code",
   "execution_count": 28,
   "metadata": {},
   "outputs": [
    {
     "data": {
      "text/plain": [
       "6"
      ]
     },
     "execution_count": 28,
     "metadata": {},
     "output_type": "execute_result"
    }
   ],
   "source": [
    "'''\n",
    "    Source-Drain sweep\n",
    "'''\n",
    "SD_start = 0\n",
    "SD_stop = 5\n",
    "SD_points = 100\n",
    "SD_curr_comp = 0.1 # Source-Drain current compliance, by default 0.1\n",
    "\n",
    "'''\n",
    "    Gate sweep\n",
    "'''\n",
    "G_start = 0\n",
    "G_stop = 5\n",
    "G_points = 5\n",
    "G_curr_comp = 0.01 # gate current compliance, by default is 0.01\n",
    "G_curr_list = np.linspace(G_start, G_stop, G_points)\n",
    "\n",
    "nplc = 0.1\n",
    "\n",
    "current_array = np.zeros((G_points, SD_points), dtype=np.float64)\n",
    "\n",
    "# SD sweep setup\n",
    "\n",
    "# gate sweep setup\n",
    "# keysight.write(\":SOUR2:FUNC:MODE VOLT\")\n",
    "# keysight.write(\":SOUR2:VOLT:MODE LIST\")\n",
    "# keysight.write(\":SOUR2:LIST:VOLT \" + gate_volt_list_str)\n",
    "\n",
    "# current measurement setup\n",
    "\n",
    "# trigger\n",
    "# keysight.write(\":TRIG2:SOUR AINT\")\n",
    "# keysight.write(\":TRIG2:COUN \" + str(SD_points * G_points))\n",
    "\n",
    "\n",
    "# Measurement\n",
    "\n",
    "for i in range(G_points):\n",
    "    keysight.write(\"*RST\")\n",
    "    keysight.write(\":SOUR1:FUNC:MODE VOLT\")\n",
    "    keysight.write(\":SOUR1:VOLT:MODE SWE\")\n",
    "    keysight.write(\":SOUR1:VOLT:STAR \" + str(SD_start))\n",
    "    keysight.write(\":SOUR1:VOLT:STOP \" + str(SD_stop))\n",
    "    keysight.write(\":SOUR1:VOLT:POIN \" + str(SD_points))\n",
    "\n",
    "    keysight.write(\":SENSE:FUNC \"\"CURR\"\"\")\n",
    "    keysight.write(\":SENS1:CURR:NPLC \" + str(nplc))\n",
    "    keysight.write(\":SENS1:CURR:PROT \" + str(SD_curr_comp))\n",
    "    keysight.write(\":SENS2:CURR:PROT \" + str(G_curr_comp))\n",
    "\n",
    "    keysight.write(\":SOUR2:FUNC:MODE VOLT\")\n",
    "    keysight.write(\":SOUR2:VOLT \" + '%.5f' % G_curr_list[i])\n",
    "\n",
    "    keysight.write(\":TRIG1:SOUR AINT\")\n",
    "    keysight.write(\":TRIG1:COUN \" + str(SD_points))\n",
    "    \n",
    "    keysight.write(\":OUTP2 ON\")\n",
    "    keysight.write(\":OUTP1 ON\")\n",
    "    keysight.write(\":INIT (@1,2)\")\n",
    "    keysight.write(\":FETC:ARR:CURR? (@1)\")\n",
    "    data = keysight.read()\n",
    "    keysight.write(\":OUTP1 OFF\")\n",
    "    keysight.write(\":OUTP2 OFF\")\n",
    "\n",
    "    l = data.split(',')\n",
    "    for j in range(SD_points):\n",
    "        current_array[i,j] = float(l[j])\n",
    "\n",
    "    \n",
    "keysight.write(\"*RST\")\n",
    "\n"
   ]
  },
  {
   "cell_type": "code",
   "execution_count": 29,
   "metadata": {},
   "outputs": [
    {
     "data": {
      "image/png": "[encoded data removed]",
      "text/plain": [
       "<Figure size 640x480 with 1 Axes>"
      ]
     },
     "metadata": {},
     "output_type": "display_data"
    }
   ],
   "source": [
    "for i in range(G_points):\n",
    "    plt.scatter(np.linspace(SD_start, SD_stop, SD_points), current_array[i], \\\n",
    "                label=r\"$V_{gate} = $\" + str(np.linspace(G_start, G_stop, G_points)[i]), s=10)\n",
    "\n",
    "plt.legend()\n",
    "plt.xlabel(r\"$V_{DS}$\")\n",
    "plt.ylabel(r\"$I_{DS}$\")\n",
    "plt.show()"
   ]
  },
  {
   "cell_type": "code",
   "execution_count": null,
   "metadata": {},
   "outputs": [],
   "source": []
  }
 ],
 "metadata": {
  "kernelspec": {
   "display_name": "Python 3 (ipykernel)",
   "language": "python",
   "name": "python3"
  },
  "language_info": {
   "codemirror_mode": {
    "name": "ipython",
    "version": 3
   },
   "file_extension": ".py",
   "mimetype": "text/x-python",
   "name": "python",
   "nbconvert_exporter": "python",
   "pygments_lexer": "ipython3",
   "version": "3.11.7"
  }
 },
 "nbformat": 4,
 "nbformat_minor": 2
}
